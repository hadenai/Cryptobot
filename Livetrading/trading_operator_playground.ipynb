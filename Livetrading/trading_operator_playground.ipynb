{
 "cells": [
  {
   "cell_type": "code",
   "execution_count": 2,
   "metadata": {},
   "outputs": [
    {
     "name": "stdout",
     "output_type": "stream",
     "text": [
      "Collecting pandas\n",
      "  Obtaining dependency information for pandas from https://files.pythonhosted.org/packages/16/c6/75231fd47afd6b3f89011e7077f1a3958441264aca7ae9ff596e3276a5d0/pandas-2.2.2-cp311-cp311-macosx_11_0_arm64.whl.metadata\n",
      "  Using cached pandas-2.2.2-cp311-cp311-macosx_11_0_arm64.whl.metadata (19 kB)\n",
      "Requirement already satisfied: numpy>=1.23.2 in /Users/karimmeguenni-tani/Bot project trading/Cryptobot/mon_env/lib/python3.11/site-packages (from pandas) (2.0.0)\n",
      "Requirement already satisfied: python-dateutil>=2.8.2 in /Users/karimmeguenni-tani/Bot project trading/Cryptobot/mon_env/lib/python3.11/site-packages (from pandas) (2.9.0.post0)\n",
      "Collecting pytz>=2020.1 (from pandas)\n",
      "  Obtaining dependency information for pytz>=2020.1 from https://files.pythonhosted.org/packages/9c/3d/a121f284241f08268b21359bd425f7d4825cffc5ac5cd0e1b3d82ffd2b10/pytz-2024.1-py2.py3-none-any.whl.metadata\n",
      "  Using cached pytz-2024.1-py2.py3-none-any.whl.metadata (22 kB)\n",
      "Collecting tzdata>=2022.7 (from pandas)\n",
      "  Obtaining dependency information for tzdata>=2022.7 from https://files.pythonhosted.org/packages/65/58/f9c9e6be752e9fcb8b6a0ee9fb87e6e7a1f6bcab2cdc73f02bb7ba91ada0/tzdata-2024.1-py2.py3-none-any.whl.metadata\n",
      "  Using cached tzdata-2024.1-py2.py3-none-any.whl.metadata (1.4 kB)\n",
      "Requirement already satisfied: six>=1.5 in /Users/karimmeguenni-tani/Bot project trading/Cryptobot/mon_env/lib/python3.11/site-packages (from python-dateutil>=2.8.2->pandas) (1.16.0)\n",
      "Downloading pandas-2.2.2-cp311-cp311-macosx_11_0_arm64.whl (11.3 MB)\n",
      "\u001b[2K   \u001b[90m━━━━━━━━━━━━━━━━━━━━━━━━━━━━━━━━━━━━━━━━\u001b[0m \u001b[32m11.3/11.3 MB\u001b[0m \u001b[31m167.0 kB/s\u001b[0m eta \u001b[36m0:00:00\u001b[0m00:01\u001b[0m00:02\u001b[0m\n",
      "\u001b[?25hDownloading pytz-2024.1-py2.py3-none-any.whl (505 kB)\n",
      "\u001b[2K   \u001b[90m━━━━━━━━━━━━━━━━━━━━━━━━━━━━━━━━━━━━━━━━\u001b[0m \u001b[32m505.5/505.5 kB\u001b[0m \u001b[31m72.0 kB/s\u001b[0m eta \u001b[36m0:00:00\u001b[0ma \u001b[36m0:00:01\u001b[0m\n",
      "\u001b[?25hDownloading tzdata-2024.1-py2.py3-none-any.whl (345 kB)\n",
      "\u001b[2K   \u001b[90m━━━━━━━━━━━━━━━━━━━━━━━━━━━━━━━━━━━━━━━━\u001b[0m \u001b[32m345.4/345.4 kB\u001b[0m \u001b[31m40.9 kB/s\u001b[0m eta \u001b[36m0:00:00\u001b[0ma \u001b[36m0:00:01\u001b[0m\n",
      "\u001b[?25hInstalling collected packages: pytz, tzdata, pandas\n",
      "Successfully installed pandas-2.2.2 pytz-2024.1 tzdata-2024.1\n",
      "\n",
      "\u001b[1m[\u001b[0m\u001b[34;49mnotice\u001b[0m\u001b[1;39;49m]\u001b[0m\u001b[39;49m A new release of pip is available: \u001b[0m\u001b[31;49m23.2.1\u001b[0m\u001b[39;49m -> \u001b[0m\u001b[32;49m24.1.1\u001b[0m\n",
      "\u001b[1m[\u001b[0m\u001b[34;49mnotice\u001b[0m\u001b[1;39;49m]\u001b[0m\u001b[39;49m To update, run: \u001b[0m\u001b[32;49mpip install --upgrade pip\u001b[0m\n",
      "Note: you may need to restart the kernel to use updated packages.\n"
     ]
    }
   ],
   "source": [
    "pip install pandas"
   ]
  },
  {
   "cell_type": "code",
   "execution_count": 4,
   "metadata": {},
   "outputs": [],
   "source": [
    "import pandas as pd\n",
    "import numpy as np\n",
    "import time"
   ]
  },
  {
   "cell_type": "code",
   "execution_count": null,
   "metadata": {},
   "outputs": [],
   "source": []
  },
  {
   "cell_type": "code",
   "execution_count": 5,
   "metadata": {},
   "outputs": [],
   "source": [
    "symbol = 'BTC/USDT'\n",
    "timeframe = '1h'\n",
    "ma_short_period = 20\n",
    "ma_long_period = 50\n",
    "balance_percentage = 0.1"
   ]
  },
  {
   "cell_type": "code",
   "execution_count": 7,
   "metadata": {},
   "outputs": [],
   "source": [
    "data = pd.read_csv(\"/Users/karimmeguenni-tani/Bot project trading/Cryptobot/DataBase/1h/BTC-USDT-USDT.csv\")\n",
    "data.index = pd.to_datetime(data['date'], unit='ms')\n",
    "data = data.drop('date', axis=1)\n"
   ]
  },
  {
   "cell_type": "code",
   "execution_count": 8,
   "metadata": {},
   "outputs": [
    {
     "data": {
      "text/html": [
       "<div>\n",
       "<style scoped>\n",
       "    .dataframe tbody tr th:only-of-type {\n",
       "        vertical-align: middle;\n",
       "    }\n",
       "\n",
       "    .dataframe tbody tr th {\n",
       "        vertical-align: top;\n",
       "    }\n",
       "\n",
       "    .dataframe thead th {\n",
       "        text-align: right;\n",
       "    }\n",
       "</style>\n",
       "<table border=\"1\" class=\"dataframe\">\n",
       "  <thead>\n",
       "    <tr style=\"text-align: right;\">\n",
       "      <th></th>\n",
       "      <th>open</th>\n",
       "      <th>high</th>\n",
       "      <th>low</th>\n",
       "      <th>close</th>\n",
       "      <th>volume</th>\n",
       "    </tr>\n",
       "    <tr>\n",
       "      <th>date</th>\n",
       "      <th></th>\n",
       "      <th></th>\n",
       "      <th></th>\n",
       "      <th></th>\n",
       "      <th></th>\n",
       "    </tr>\n",
       "  </thead>\n",
       "  <tbody>\n",
       "    <tr>\n",
       "      <th>2019-07-10 11:00:00</th>\n",
       "      <td>13073.5</td>\n",
       "      <td>13075.5</td>\n",
       "      <td>13044.5</td>\n",
       "      <td>13064.5</td>\n",
       "      <td>4.8952</td>\n",
       "    </tr>\n",
       "    <tr>\n",
       "      <th>2019-07-10 12:00:00</th>\n",
       "      <td>13064.5</td>\n",
       "      <td>13064.5</td>\n",
       "      <td>12900.5</td>\n",
       "      <td>13029.0</td>\n",
       "      <td>684.5329</td>\n",
       "    </tr>\n",
       "    <tr>\n",
       "      <th>2019-07-10 13:00:00</th>\n",
       "      <td>13029.0</td>\n",
       "      <td>13127.5</td>\n",
       "      <td>12996.5</td>\n",
       "      <td>13039.5</td>\n",
       "      <td>812.2584</td>\n",
       "    </tr>\n",
       "    <tr>\n",
       "      <th>2019-07-10 14:00:00</th>\n",
       "      <td>13039.5</td>\n",
       "      <td>13065.5</td>\n",
       "      <td>12549.5</td>\n",
       "      <td>12549.5</td>\n",
       "      <td>679.7040</td>\n",
       "    </tr>\n",
       "    <tr>\n",
       "      <th>2019-07-10 15:00:00</th>\n",
       "      <td>12549.5</td>\n",
       "      <td>12552.0</td>\n",
       "      <td>12121.0</td>\n",
       "      <td>12362.0</td>\n",
       "      <td>715.6550</td>\n",
       "    </tr>\n",
       "    <tr>\n",
       "      <th>...</th>\n",
       "      <td>...</td>\n",
       "      <td>...</td>\n",
       "      <td>...</td>\n",
       "      <td>...</td>\n",
       "      <td>...</td>\n",
       "    </tr>\n",
       "    <tr>\n",
       "      <th>2024-04-19 23:00:00</th>\n",
       "      <td>63964.2</td>\n",
       "      <td>64095.3</td>\n",
       "      <td>62890.7</td>\n",
       "      <td>63771.2</td>\n",
       "      <td>14875.2400</td>\n",
       "    </tr>\n",
       "    <tr>\n",
       "      <th>2024-04-20 00:00:00</th>\n",
       "      <td>63771.2</td>\n",
       "      <td>64216.4</td>\n",
       "      <td>63365.5</td>\n",
       "      <td>63401.3</td>\n",
       "      <td>8151.1100</td>\n",
       "    </tr>\n",
       "    <tr>\n",
       "      <th>2024-04-20 01:00:00</th>\n",
       "      <td>63401.3</td>\n",
       "      <td>63741.9</td>\n",
       "      <td>63031.2</td>\n",
       "      <td>63606.8</td>\n",
       "      <td>7683.9050</td>\n",
       "    </tr>\n",
       "    <tr>\n",
       "      <th>2024-04-20 02:00:00</th>\n",
       "      <td>63606.8</td>\n",
       "      <td>64057.9</td>\n",
       "      <td>63482.0</td>\n",
       "      <td>63786.1</td>\n",
       "      <td>11079.2370</td>\n",
       "    </tr>\n",
       "    <tr>\n",
       "      <th>2024-04-20 03:00:00</th>\n",
       "      <td>63786.1</td>\n",
       "      <td>63980.1</td>\n",
       "      <td>63708.2</td>\n",
       "      <td>63909.9</td>\n",
       "      <td>9810.2930</td>\n",
       "    </tr>\n",
       "  </tbody>\n",
       "</table>\n",
       "<p>41897 rows × 5 columns</p>\n",
       "</div>"
      ],
      "text/plain": [
       "                        open     high      low    close      volume\n",
       "date                                                               \n",
       "2019-07-10 11:00:00  13073.5  13075.5  13044.5  13064.5      4.8952\n",
       "2019-07-10 12:00:00  13064.5  13064.5  12900.5  13029.0    684.5329\n",
       "2019-07-10 13:00:00  13029.0  13127.5  12996.5  13039.5    812.2584\n",
       "2019-07-10 14:00:00  13039.5  13065.5  12549.5  12549.5    679.7040\n",
       "2019-07-10 15:00:00  12549.5  12552.0  12121.0  12362.0    715.6550\n",
       "...                      ...      ...      ...      ...         ...\n",
       "2024-04-19 23:00:00  63964.2  64095.3  62890.7  63771.2  14875.2400\n",
       "2024-04-20 00:00:00  63771.2  64216.4  63365.5  63401.3   8151.1100\n",
       "2024-04-20 01:00:00  63401.3  63741.9  63031.2  63606.8   7683.9050\n",
       "2024-04-20 02:00:00  63606.8  64057.9  63482.0  63786.1  11079.2370\n",
       "2024-04-20 03:00:00  63786.1  63980.1  63708.2  63909.9   9810.2930\n",
       "\n",
       "[41897 rows x 5 columns]"
      ]
     },
     "execution_count": 8,
     "metadata": {},
     "output_type": "execute_result"
    }
   ],
   "source": [
    "data"
   ]
  },
  {
   "cell_type": "code",
   "execution_count": 16,
   "metadata": {},
   "outputs": [],
   "source": [
    "def calculate_ma(data):\n",
    "    data['ma_short'] = data['close'].rolling(window=ma_short_period).mean()\n",
    "    data['ma_long'] = data['close'].rolling(window=ma_long_period).mean()\n",
    "    return data"
   ]
  },
  {
   "cell_type": "code",
   "execution_count": 10,
   "metadata": {},
   "outputs": [],
   "source": [
    "def trading_strategy(data):\n",
    "    if data['ma_short'].iloc[-1] > data['ma_long'].iloc[-1] and data['ma_short'].iloc[-2] <= data['ma_long'].iloc[-2]:\n",
    "        return 'buy'\n",
    "    elif data['ma_short'].iloc[-1] < data['ma_long'].iloc[-1] and data['ma_short'].iloc[-2] >= data['ma_long'].iloc[-2]:\n",
    "        return 'sell'\n",
    "    else:\n",
    "        return 'hold'"
   ]
  },
  {
   "cell_type": "code",
   "execution_count": 18,
   "metadata": {},
   "outputs": [
    {
     "name": "stdout",
     "output_type": "stream",
     "text": [
      "['wallet', 'symbol', 'Coin', 'trade_status', 'value_usdt', 'value_coin', 'date', 'timeframe']\n"
     ]
    },
    {
     "data": {
      "text/html": [
       "<div>\n",
       "<style scoped>\n",
       "    .dataframe tbody tr th:only-of-type {\n",
       "        vertical-align: middle;\n",
       "    }\n",
       "\n",
       "    .dataframe tbody tr th {\n",
       "        vertical-align: top;\n",
       "    }\n",
       "\n",
       "    .dataframe thead th {\n",
       "        text-align: right;\n",
       "    }\n",
       "</style>\n",
       "<table border=\"1\" class=\"dataframe\">\n",
       "  <thead>\n",
       "    <tr style=\"text-align: right;\">\n",
       "      <th></th>\n",
       "      <th>wallet</th>\n",
       "      <th>symbol</th>\n",
       "      <th>Coin</th>\n",
       "      <th>trade_status</th>\n",
       "      <th>value_usdt</th>\n",
       "      <th>value_coin</th>\n",
       "      <th>date</th>\n",
       "      <th>timeframe</th>\n",
       "    </tr>\n",
       "  </thead>\n",
       "  <tbody>\n",
       "  </tbody>\n",
       "</table>\n",
       "</div>"
      ],
      "text/plain": [
       "Empty DataFrame\n",
       "Columns: [wallet, symbol, Coin, trade_status, value_usdt, value_coin, date, timeframe]\n",
       "Index: []"
      ]
     },
     "execution_count": 18,
     "metadata": {},
     "output_type": "execute_result"
    }
   ],
   "source": [
    "trade_records={\"wallet\":0,\"symbol\":\"BTC/USDT\",\"Coin\":\"BTC\",\"trade_status\":\"Buy\",\"value_usdt\":0,\"value_coin\":0,\"date\":time.time(),\"timeframe\":\"1h\"}\n",
    "print(list(trade_records.keys()))\n",
    "historical_trades_records = pd.DataFrame(columns=list(trade_records.keys()))\n",
    "historical_trades_records"
   ]
  },
  {
   "cell_type": "code",
   "execution_count": 29,
   "metadata": {},
   "outputs": [],
   "source": [
    "def calculate_value_wallet(wallet,data):\n",
    "    return wallet['usdt'] + wallet['coin'] * data['close'].iloc[-1]"
   ]
  },
  {
   "cell_type": "code",
   "execution_count": 33,
   "metadata": {},
   "outputs": [
    {
     "name": "stdout",
     "output_type": "stream",
     "text": [
      "value action: hold\n"
     ]
    }
   ],
   "source": [
    "condition=True\n",
    "\n",
    "wallet={\"usdt\":1000,\"coin\":0}\n",
    "parameters={\"wallet\":calculate_value_wallet(wallet,data),\"taker_fee\":0.1,\"maker_fee\":0.1,\"balance_percentage_usdt\":0.1,\"balance_percentage_coin\":1,\"symbol\":\"BTC/USDT\",\"num_trades\":0,\"trade_status\":\"None\"}\n",
    "parameters_records = pd.DataFrame(parameters, index=[0])\n",
    "trade_records={\"symbol\":\"BTC/USDT\",\"Coin\":\"BTC\",\"trade_status\":\"Buy\",\"value_usdt\":0,\"value_coin\":0,\"date\":time.time(),\"timeframe\":\"1h\"}\n",
    "historical_trades_records = pd.DataFrame(columns=list(trade_records.keys()))\n",
    "\n",
    "data = calculate_ma(data)\n",
    "# Create a new dataframe with a single row using the parameters dictionary\n",
    "while condition:\n",
    "    # Obtenir l'heure actuelle\n",
    "    current_time = time.strftime(\"%Y-%m-%d %H:%M:%S\", time.localtime())\n",
    "\n",
    "    # Vérifier si l'on doit acheter ou vendre\n",
    "    action = trading_strategy(data)\n",
    "    print(\"value action:\",action)\n",
    "    # Effectuer les calculs d'achat ou de vente en fonction des paramètres\n",
    "    if action == 'buy' and parameters['wallet']['usdt'] > 0 and parameters['trade_status'] != 'Bought':\n",
    "        # Calculer la valeur de l'achat\n",
    "        value_usdt = (1 - parameters['taker_fee']) * parameters['balance_percentage_usdt'] * parameters['wallet']['usdt']\n",
    "        value_coin = value_usdt / data['close'].iloc[-1]\n",
    "        # Mettre à jour les paramètres\n",
    "        wallet={\"usdt\":value_usdt,\"coin\":value_coin}\n",
    "        parameters['wallet'] = calculate_value_wallet(wallet,data)\n",
    "        parameters['num_trades'] += 1\n",
    "        parameters['trade_status'] = 'Bought'\n",
    "        # Stocker les résultats dans parameters_records\n",
    "        parameters_records = parameters_records.append(parameters, ignore_index=True)\n",
    "        # Stocker les résultats dans trade_records\n",
    "        trade_records = {'symbol': parameters['symbol'], 'trade_status': 'Buy', 'value_usdt': value_usdt, 'value_coin': value_coin, 'date': current_time, 'timeframe': parameters['timeframe']}\n",
    "        # Stocker les résultats dans historical_trades_records\n",
    "        historical_trades_records = historical_trades_records.append(trade_records, ignore_index=True)\n",
    "    elif action == 'sell' and parameters['wallet']['coin'] > 0:\n",
    "        # Calculer la valeur de la vente\n",
    "        value_coin =  (1 - parameters['maker_fee']) * (1-parameters['balance_percentage_coin']) * parameters['wallet']['coin']\n",
    "        value_usdt =  value_coin * data['close'].iloc[-1]\n",
    "        # Mettre à jour les paramètres\n",
    "        parameters['wallet'] = calculate_value_wallet(wallet,data)\n",
    "        parameters['num_trades'] += 1\n",
    "        parameters['trade_status'] = 'Sold'\n",
    "        # Stocker les résultats dans parameters_records\n",
    "        parameters_records = parameters_records.append(parameters, ignore_index=True)\n",
    "        # Stocker les résultats dans trade_records\n",
    "        trade_records = {'symbol': parameters['symbol'], 'trade_status': 'Sell', 'value_usdt': value_usdt, 'value_coin': value_coin, 'date': current_time, 'timeframe': parameters['timeframe']}\n",
    "        display(trade_records)\n",
    "        # Stocker les résultats dans historical_trades_records\n",
    "        historical_trades_records = historical_trades_records.append(trade_records, ignore_index=True)\n",
    "    \n",
    "    # Attendre une heure avant la prochaine itération\n",
    "    condition=False\n"
   ]
  },
  {
   "cell_type": "code",
   "execution_count": 32,
   "metadata": {},
   "outputs": [
    {
     "data": {
      "text/html": [
       "<div>\n",
       "<style scoped>\n",
       "    .dataframe tbody tr th:only-of-type {\n",
       "        vertical-align: middle;\n",
       "    }\n",
       "\n",
       "    .dataframe tbody tr th {\n",
       "        vertical-align: top;\n",
       "    }\n",
       "\n",
       "    .dataframe thead th {\n",
       "        text-align: right;\n",
       "    }\n",
       "</style>\n",
       "<table border=\"1\" class=\"dataframe\">\n",
       "  <thead>\n",
       "    <tr style=\"text-align: right;\">\n",
       "      <th></th>\n",
       "      <th>symbol</th>\n",
       "      <th>Coin</th>\n",
       "      <th>trade_status</th>\n",
       "      <th>value_usdt</th>\n",
       "      <th>value_coin</th>\n",
       "      <th>date</th>\n",
       "      <th>timeframe</th>\n",
       "    </tr>\n",
       "  </thead>\n",
       "  <tbody>\n",
       "  </tbody>\n",
       "</table>\n",
       "</div>"
      ],
      "text/plain": [
       "Empty DataFrame\n",
       "Columns: [symbol, Coin, trade_status, value_usdt, value_coin, date, timeframe]\n",
       "Index: []"
      ]
     },
     "execution_count": 32,
     "metadata": {},
     "output_type": "execute_result"
    }
   ],
   "source": [
    "historical_trades_records"
   ]
  },
  {
   "cell_type": "code",
   "execution_count": 31,
   "metadata": {},
   "outputs": [
    {
     "data": {
      "text/html": [
       "<div>\n",
       "<style scoped>\n",
       "    .dataframe tbody tr th:only-of-type {\n",
       "        vertical-align: middle;\n",
       "    }\n",
       "\n",
       "    .dataframe tbody tr th {\n",
       "        vertical-align: top;\n",
       "    }\n",
       "\n",
       "    .dataframe thead th {\n",
       "        text-align: right;\n",
       "    }\n",
       "</style>\n",
       "<table border=\"1\" class=\"dataframe\">\n",
       "  <thead>\n",
       "    <tr style=\"text-align: right;\">\n",
       "      <th></th>\n",
       "      <th>wallet</th>\n",
       "      <th>taker_fee</th>\n",
       "      <th>maker_fee</th>\n",
       "      <th>balance_percentage_usdt</th>\n",
       "      <th>balance_percentage_coin</th>\n",
       "      <th>symbol</th>\n",
       "      <th>num_trades</th>\n",
       "      <th>trade_status</th>\n",
       "    </tr>\n",
       "  </thead>\n",
       "  <tbody>\n",
       "    <tr>\n",
       "      <th>0</th>\n",
       "      <td>1000.0</td>\n",
       "      <td>0.1</td>\n",
       "      <td>0.1</td>\n",
       "      <td>0.1</td>\n",
       "      <td>1</td>\n",
       "      <td>BTC/USDT</td>\n",
       "      <td>0</td>\n",
       "      <td>None</td>\n",
       "    </tr>\n",
       "  </tbody>\n",
       "</table>\n",
       "</div>"
      ],
      "text/plain": [
       "   wallet  taker_fee  maker_fee  balance_percentage_usdt  \\\n",
       "0  1000.0        0.1        0.1                      0.1   \n",
       "\n",
       "   balance_percentage_coin    symbol  num_trades trade_status  \n",
       "0                        1  BTC/USDT           0         None  "
      ]
     },
     "execution_count": 31,
     "metadata": {},
     "output_type": "execute_result"
    }
   ],
   "source": [
    "parameters_records"
   ]
  },
  {
   "cell_type": "code",
   "execution_count": null,
   "metadata": {},
   "outputs": [],
   "source": []
  }
 ],
 "metadata": {
  "kernelspec": {
   "display_name": "Python 3",
   "language": "python",
   "name": "python3"
  },
  "language_info": {
   "codemirror_mode": {
    "name": "ipython",
    "version": 3
   },
   "file_extension": ".py",
   "mimetype": "text/x-python",
   "name": "python",
   "nbconvert_exporter": "python",
   "pygments_lexer": "ipython3",
   "version": "3.11.6"
  }
 },
 "nbformat": 4,
 "nbformat_minor": 2
}
